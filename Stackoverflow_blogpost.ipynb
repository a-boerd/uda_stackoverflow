{
 "cells": [
  {
   "cell_type": "markdown",
   "metadata": {},
   "source": [
    "# Blog post on Stackoverflow Data"
   ]
  },
  {
   "cell_type": "markdown",
   "metadata": {},
   "source": [
    "This shows step by step the analysis that was conducted to address several questions on the 2017 stackoverflow survey data. Focus was on social and behavioral aspects if you will:\n",
    "What makes people update their resumes? Are StackOverflow users more inclined to be the \"challenge myself\" type or \"compete with peers\" type?\n",
    "How's the distribution of people who like/dislike working with other people's code and can we predict wether people like/dislike working with other people's code?\n"
   ]
  },
  {
   "cell_type": "code",
   "execution_count": 33,
   "metadata": {},
   "outputs": [],
   "source": [
    "import pandas as pd\n",
    "import numpy as np\n",
    "import matplotlib.pyplot as plt\n",
    "import seaborn as sns\n",
    "from sklearn.ensemble import RandomForestClassifier\n",
    "from sklearn.model_selection import train_test_split\n",
    "from sklearn.metrics import accuracy_score\n",
    "from sklearn.preprocessing import OneHotEncoder\n",
    "%matplotlib inline"
   ]
  },
  {
   "cell_type": "markdown",
   "metadata": {},
   "source": [
    "#### Read CSV Files"
   ]
  },
  {
   "cell_type": "code",
   "execution_count": 34,
   "metadata": {},
   "outputs": [],
   "source": [
    "df=pd.read_csv(\"so-survey-2017/survey_results_public.csv\")\n",
    "df_schema=pd.read_csv(\"so-survey-2017/survey_results_schema.csv\")"
   ]
  },
  {
   "cell_type": "markdown",
   "metadata": {},
   "source": [
    "### Data understanding"
   ]
  },
  {
   "cell_type": "code",
   "execution_count": 35,
   "metadata": {},
   "outputs": [
    {
     "name": "stdout",
     "output_type": "stream",
     "text": [
      "<class 'pandas.core.frame.DataFrame'>\n",
      "RangeIndex: 51392 entries, 0 to 51391\n",
      "Columns: 154 entries, Respondent to ExpectedSalary\n",
      "dtypes: float64(6), int64(1), object(147)\n",
      "memory usage: 60.4+ MB\n"
     ]
    }
   ],
   "source": [
    "df.info()"
   ]
  },
  {
   "cell_type": "code",
   "execution_count": 36,
   "metadata": {},
   "outputs": [
    {
     "data": {
      "text/html": [
       "<div>\n",
       "<style scoped>\n",
       "    .dataframe tbody tr th:only-of-type {\n",
       "        vertical-align: middle;\n",
       "    }\n",
       "\n",
       "    .dataframe tbody tr th {\n",
       "        vertical-align: top;\n",
       "    }\n",
       "\n",
       "    .dataframe thead th {\n",
       "        text-align: right;\n",
       "    }\n",
       "</style>\n",
       "<table border=\"1\" class=\"dataframe\">\n",
       "  <thead>\n",
       "    <tr style=\"text-align: right;\">\n",
       "      <th></th>\n",
       "      <th>Respondent</th>\n",
       "      <th>Professional</th>\n",
       "      <th>ProgramHobby</th>\n",
       "      <th>Country</th>\n",
       "      <th>University</th>\n",
       "      <th>EmploymentStatus</th>\n",
       "      <th>FormalEducation</th>\n",
       "      <th>MajorUndergrad</th>\n",
       "      <th>HomeRemote</th>\n",
       "      <th>CompanySize</th>\n",
       "      <th>...</th>\n",
       "      <th>StackOverflowMakeMoney</th>\n",
       "      <th>Gender</th>\n",
       "      <th>HighestEducationParents</th>\n",
       "      <th>Race</th>\n",
       "      <th>SurveyLong</th>\n",
       "      <th>QuestionsInteresting</th>\n",
       "      <th>QuestionsConfusing</th>\n",
       "      <th>InterestedAnswers</th>\n",
       "      <th>Salary</th>\n",
       "      <th>ExpectedSalary</th>\n",
       "    </tr>\n",
       "  </thead>\n",
       "  <tbody>\n",
       "    <tr>\n",
       "      <th>0</th>\n",
       "      <td>1</td>\n",
       "      <td>Student</td>\n",
       "      <td>Yes, both</td>\n",
       "      <td>United States</td>\n",
       "      <td>No</td>\n",
       "      <td>Not employed, and not looking for work</td>\n",
       "      <td>Secondary school</td>\n",
       "      <td>NaN</td>\n",
       "      <td>NaN</td>\n",
       "      <td>NaN</td>\n",
       "      <td>...</td>\n",
       "      <td>Strongly disagree</td>\n",
       "      <td>Male</td>\n",
       "      <td>High school</td>\n",
       "      <td>White or of European descent</td>\n",
       "      <td>Strongly disagree</td>\n",
       "      <td>Strongly agree</td>\n",
       "      <td>Disagree</td>\n",
       "      <td>Strongly agree</td>\n",
       "      <td>NaN</td>\n",
       "      <td>NaN</td>\n",
       "    </tr>\n",
       "    <tr>\n",
       "      <th>1</th>\n",
       "      <td>2</td>\n",
       "      <td>Student</td>\n",
       "      <td>Yes, both</td>\n",
       "      <td>United Kingdom</td>\n",
       "      <td>Yes, full-time</td>\n",
       "      <td>Employed part-time</td>\n",
       "      <td>Some college/university study without earning ...</td>\n",
       "      <td>Computer science or software engineering</td>\n",
       "      <td>More than half, but not all, the time</td>\n",
       "      <td>20 to 99 employees</td>\n",
       "      <td>...</td>\n",
       "      <td>Strongly disagree</td>\n",
       "      <td>Male</td>\n",
       "      <td>A master's degree</td>\n",
       "      <td>White or of European descent</td>\n",
       "      <td>Somewhat agree</td>\n",
       "      <td>Somewhat agree</td>\n",
       "      <td>Disagree</td>\n",
       "      <td>Strongly agree</td>\n",
       "      <td>NaN</td>\n",
       "      <td>37500.0</td>\n",
       "    </tr>\n",
       "    <tr>\n",
       "      <th>2</th>\n",
       "      <td>3</td>\n",
       "      <td>Professional developer</td>\n",
       "      <td>Yes, both</td>\n",
       "      <td>United Kingdom</td>\n",
       "      <td>No</td>\n",
       "      <td>Employed full-time</td>\n",
       "      <td>Bachelor's degree</td>\n",
       "      <td>Computer science or software engineering</td>\n",
       "      <td>Less than half the time, but at least one day ...</td>\n",
       "      <td>10,000 or more employees</td>\n",
       "      <td>...</td>\n",
       "      <td>Disagree</td>\n",
       "      <td>Male</td>\n",
       "      <td>A professional degree</td>\n",
       "      <td>White or of European descent</td>\n",
       "      <td>Somewhat agree</td>\n",
       "      <td>Agree</td>\n",
       "      <td>Disagree</td>\n",
       "      <td>Agree</td>\n",
       "      <td>113750.0</td>\n",
       "      <td>NaN</td>\n",
       "    </tr>\n",
       "    <tr>\n",
       "      <th>3</th>\n",
       "      <td>4</td>\n",
       "      <td>Professional non-developer who sometimes write...</td>\n",
       "      <td>Yes, both</td>\n",
       "      <td>United States</td>\n",
       "      <td>No</td>\n",
       "      <td>Employed full-time</td>\n",
       "      <td>Doctoral degree</td>\n",
       "      <td>A non-computer-focused engineering discipline</td>\n",
       "      <td>Less than half the time, but at least one day ...</td>\n",
       "      <td>10,000 or more employees</td>\n",
       "      <td>...</td>\n",
       "      <td>Disagree</td>\n",
       "      <td>Male</td>\n",
       "      <td>A doctoral degree</td>\n",
       "      <td>White or of European descent</td>\n",
       "      <td>Agree</td>\n",
       "      <td>Agree</td>\n",
       "      <td>Somewhat agree</td>\n",
       "      <td>Strongly agree</td>\n",
       "      <td>NaN</td>\n",
       "      <td>NaN</td>\n",
       "    </tr>\n",
       "    <tr>\n",
       "      <th>4</th>\n",
       "      <td>5</td>\n",
       "      <td>Professional developer</td>\n",
       "      <td>Yes, I program as a hobby</td>\n",
       "      <td>Switzerland</td>\n",
       "      <td>No</td>\n",
       "      <td>Employed full-time</td>\n",
       "      <td>Master's degree</td>\n",
       "      <td>Computer science or software engineering</td>\n",
       "      <td>Never</td>\n",
       "      <td>10 to 19 employees</td>\n",
       "      <td>...</td>\n",
       "      <td>NaN</td>\n",
       "      <td>NaN</td>\n",
       "      <td>NaN</td>\n",
       "      <td>NaN</td>\n",
       "      <td>NaN</td>\n",
       "      <td>NaN</td>\n",
       "      <td>NaN</td>\n",
       "      <td>NaN</td>\n",
       "      <td>NaN</td>\n",
       "      <td>NaN</td>\n",
       "    </tr>\n",
       "  </tbody>\n",
       "</table>\n",
       "<p>5 rows × 154 columns</p>\n",
       "</div>"
      ],
      "text/plain": [
       "   Respondent                                       Professional  \\\n",
       "0           1                                            Student   \n",
       "1           2                                            Student   \n",
       "2           3                             Professional developer   \n",
       "3           4  Professional non-developer who sometimes write...   \n",
       "4           5                             Professional developer   \n",
       "\n",
       "                ProgramHobby         Country      University  \\\n",
       "0                  Yes, both   United States              No   \n",
       "1                  Yes, both  United Kingdom  Yes, full-time   \n",
       "2                  Yes, both  United Kingdom              No   \n",
       "3                  Yes, both   United States              No   \n",
       "4  Yes, I program as a hobby     Switzerland              No   \n",
       "\n",
       "                         EmploymentStatus  \\\n",
       "0  Not employed, and not looking for work   \n",
       "1                      Employed part-time   \n",
       "2                      Employed full-time   \n",
       "3                      Employed full-time   \n",
       "4                      Employed full-time   \n",
       "\n",
       "                                     FormalEducation  \\\n",
       "0                                   Secondary school   \n",
       "1  Some college/university study without earning ...   \n",
       "2                                  Bachelor's degree   \n",
       "3                                    Doctoral degree   \n",
       "4                                    Master's degree   \n",
       "\n",
       "                                  MajorUndergrad  \\\n",
       "0                                            NaN   \n",
       "1       Computer science or software engineering   \n",
       "2       Computer science or software engineering   \n",
       "3  A non-computer-focused engineering discipline   \n",
       "4       Computer science or software engineering   \n",
       "\n",
       "                                          HomeRemote  \\\n",
       "0                                                NaN   \n",
       "1              More than half, but not all, the time   \n",
       "2  Less than half the time, but at least one day ...   \n",
       "3  Less than half the time, but at least one day ...   \n",
       "4                                              Never   \n",
       "\n",
       "                CompanySize       ...       StackOverflowMakeMoney Gender  \\\n",
       "0                       NaN       ...            Strongly disagree   Male   \n",
       "1        20 to 99 employees       ...            Strongly disagree   Male   \n",
       "2  10,000 or more employees       ...                     Disagree   Male   \n",
       "3  10,000 or more employees       ...                     Disagree   Male   \n",
       "4        10 to 19 employees       ...                          NaN    NaN   \n",
       "\n",
       "  HighestEducationParents                          Race         SurveyLong  \\\n",
       "0             High school  White or of European descent  Strongly disagree   \n",
       "1       A master's degree  White or of European descent     Somewhat agree   \n",
       "2   A professional degree  White or of European descent     Somewhat agree   \n",
       "3       A doctoral degree  White or of European descent              Agree   \n",
       "4                     NaN                           NaN                NaN   \n",
       "\n",
       "  QuestionsInteresting QuestionsConfusing InterestedAnswers    Salary  \\\n",
       "0       Strongly agree           Disagree    Strongly agree       NaN   \n",
       "1       Somewhat agree           Disagree    Strongly agree       NaN   \n",
       "2                Agree           Disagree             Agree  113750.0   \n",
       "3                Agree     Somewhat agree    Strongly agree       NaN   \n",
       "4                  NaN                NaN               NaN       NaN   \n",
       "\n",
       "   ExpectedSalary  \n",
       "0             NaN  \n",
       "1         37500.0  \n",
       "2             NaN  \n",
       "3             NaN  \n",
       "4             NaN  \n",
       "\n",
       "[5 rows x 154 columns]"
      ]
     },
     "execution_count": 36,
     "metadata": {},
     "output_type": "execute_result"
    }
   ],
   "source": [
    "df.head()"
   ]
  },
  {
   "cell_type": "markdown",
   "metadata": {},
   "source": [
    "#### Check Columns that we want to use for further analysis: \n",
    "OtherPeoplesCode, ChallengeMyself, CompetePeers, ResumePrompted, SelfTaughtType, EnjoyDebugging, DifficultCommunication, ShipIt, ProgramHobby, Professional, FormalEducation, HomeRemote"
   ]
  },
  {
   "cell_type": "code",
   "execution_count": 5,
   "metadata": {},
   "outputs": [
    {
     "data": {
      "text/plain": [
       "array([nan, 'A recruiter contacted me',\n",
       "       'I was just giving it a regular update',\n",
       "       'I completed a major project, assignment, or contract',\n",
       "       'I received bad news about the future of my company or depart',\n",
       "       'A friend told me about a job opportunity', 'Something else',\n",
       "       \"I saw an employer's advertisement\",\n",
       "       'I received negative feedback on my job performance'], dtype=object)"
      ]
     },
     "execution_count": 5,
     "metadata": {},
     "output_type": "execute_result"
    }
   ],
   "source": [
    "df.ResumePrompted.unique()"
   ]
  },
  {
   "cell_type": "markdown",
   "metadata": {},
   "source": [
    "define function for calculating the percentage of missing values"
   ]
  },
  {
   "cell_type": "code",
   "execution_count": 8,
   "metadata": {},
   "outputs": [],
   "source": [
    "def missing_values(column):\n",
    "    \"\"\"returns the percentage of missing values for the provided column\"\"\"\n",
    "    return (df[column].isnull().sum()/df.shape[0])*100"
   ]
  },
  {
   "cell_type": "code",
   "execution_count": 10,
   "metadata": {},
   "outputs": [
    {
     "name": "stdout",
     "output_type": "stream",
     "text": [
      "56.294754047322535\n"
     ]
    }
   ],
   "source": [
    "#percentage of missing values\n",
    "print(missing_values(\"ResumePrompted\"))"
   ]
  },
  {
   "cell_type": "markdown",
   "metadata": {},
   "source": [
    "We have about 56% missing values in this column"
   ]
  },
  {
   "cell_type": "markdown",
   "metadata": {},
   "source": [
    "define function for building bar chart of value distribution"
   ]
  },
  {
   "cell_type": "code",
   "execution_count": 20,
   "metadata": {},
   "outputs": [],
   "source": [
    "def value_dist(column):\n",
    "    \"\"\"produces a bar chart with value distribution of the provided column\"\"\"\n",
    "    (df[column].value_counts()/df.shape[0]).plot(kind=\"bar\")\n",
    "    s_title=f\"Distribution of values in {column} column\"\n",
    "    plt.title(s_title)\n",
    "    return\n"
   ]
  },
  {
   "cell_type": "code",
   "execution_count": 21,
   "metadata": {},
   "outputs": [
    {
     "data": {
      "image/png": "[encoded data removed]",
      "text/plain": [
       "<Figure size 432x288 with 1 Axes>"
      ]
     },
     "metadata": {
      "needs_background": "light"
     },
     "output_type": "display_data"
    }
   ],
   "source": [
    "#check distribution of values\n",
    "value_dist(\"ResumePrompted\")"
   ]
  },
  {
   "cell_type": "markdown",
   "metadata": {},
   "source": [
    "We can see that the single most selected option (about 13%) was that people update their resume on a regular basis. Less than 1% update their resume due to receiving negative feedback. "
   ]
  },
  {
   "cell_type": "code",
   "execution_count": 103,
   "metadata": {},
   "outputs": [
    {
     "data": {
      "text/plain": [
       "array([nan, 'Disagree', 'Agree', 'Somewhat agree', 'Strongly agree',\n",
       "       'Strongly disagree'], dtype=object)"
      ]
     },
     "execution_count": 103,
     "metadata": {},
     "output_type": "execute_result"
    }
   ],
   "source": [
    "df.OtherPeoplesCode.unique()"
   ]
  },
  {
   "cell_type": "code",
   "execution_count": 104,
   "metadata": {},
   "outputs": [
    {
     "data": {
      "text/plain": [
       "0.4236651618929016"
      ]
     },
     "execution_count": 104,
     "metadata": {},
     "output_type": "execute_result"
    }
   ],
   "source": [
    "#percentage of missing values\n",
    "print(missing_values(\"OtherPeoplesCode\"))"
   ]
  },
  {
   "cell_type": "markdown",
   "metadata": {},
   "source": [
    "We have about 42% missing values in this column"
   ]
  },
  {
   "cell_type": "code",
   "execution_count": 105,
   "metadata": {},
   "outputs": [
    {
     "data": {
      "image/png": "[encoded data removed]",
      "text/plain": [
       "<Figure size 432x288 with 1 Axes>"
      ]
     },
     "metadata": {
      "needs_background": "light"
     },
     "output_type": "display_data"
    }
   ],
   "source": [
    "#check distribution of values\n",
    "value_dist(\"OtherPeoplesCode\")"
   ]
  },
  {
   "cell_type": "markdown",
   "metadata": {},
   "source": [
    "In this case, the question was if it is torture to work with other peoples code"
   ]
  },
  {
   "cell_type": "code",
   "execution_count": 106,
   "metadata": {},
   "outputs": [
    {
     "data": {
      "text/plain": [
       "array(['Agree', nan, 'Strongly agree', 'Somewhat agree', 'Disagree',\n",
       "       'Strongly disagree'], dtype=object)"
      ]
     },
     "execution_count": 106,
     "metadata": {},
     "output_type": "execute_result"
    }
   ],
   "source": [
    "df.ChallengeMyself.unique()"
   ]
  },
  {
   "cell_type": "code",
   "execution_count": 22,
   "metadata": {},
   "outputs": [
    {
     "name": "stdout",
     "output_type": "stream",
     "text": [
      "39.73575653798257\n"
     ]
    }
   ],
   "source": [
    "#percentage of missing values\n",
    "print(missing_values(\"ChallengeMyself\"))"
   ]
  },
  {
   "cell_type": "markdown",
   "metadata": {},
   "source": [
    "We have about 40% missing values in this column"
   ]
  },
  {
   "cell_type": "code",
   "execution_count": 25,
   "metadata": {
    "scrolled": true
   },
   "outputs": [
    {
     "data": {
      "image/png": "[encoded data removed]",
      "text/plain": [
       "<Figure size 432x288 with 1 Axes>"
      ]
     },
     "metadata": {
      "needs_background": "light"
     },
     "output_type": "display_data"
    }
   ],
   "source": [
    "#check distribution of values\n",
    "value_dist(\"ChallengeMyself\")"
   ]
  },
  {
   "cell_type": "code",
   "execution_count": 109,
   "metadata": {},
   "outputs": [
    {
     "data": {
      "text/plain": [
       "array(['Disagree', nan, 'Somewhat agree', 'Strongly agree',\n",
       "       'Strongly disagree', 'Agree'], dtype=object)"
      ]
     },
     "execution_count": 109,
     "metadata": {},
     "output_type": "execute_result"
    }
   ],
   "source": [
    "df.CompetePeers.unique()"
   ]
  },
  {
   "cell_type": "code",
   "execution_count": 110,
   "metadata": {},
   "outputs": [
    {
     "data": {
      "text/plain": [
       "0.40049034869240346"
      ]
     },
     "execution_count": 110,
     "metadata": {},
     "output_type": "execute_result"
    }
   ],
   "source": [
    "#percentage of missing values\n",
    "print(missing_values(\"CompetePeers\"))"
   ]
  },
  {
   "cell_type": "markdown",
   "metadata": {},
   "source": [
    "We have about 40% missing values in this column\n",
    "\n",
    "Let's look at the distribution."
   ]
  },
  {
   "cell_type": "code",
   "execution_count": 111,
   "metadata": {},
   "outputs": [
    {
     "data": {
      "image/png": "[encoded data removed]",
      "text/plain": [
       "<Figure size 432x288 with 1 Axes>"
      ]
     },
     "metadata": {
      "needs_background": "light"
     },
     "output_type": "display_data"
    }
   ],
   "source": [
    "#check distribution of values\n",
    "value_dist(\"CompetePeers\")"
   ]
  },
  {
   "cell_type": "code",
   "execution_count": 23,
   "metadata": {},
   "outputs": [
    {
     "name": "stdout",
     "output_type": "stream",
     "text": [
      "47.97828455790785\n"
     ]
    }
   ],
   "source": [
    "print(missing_values(\"SelfTaughtTypes\"))"
   ]
  },
  {
   "cell_type": "code",
   "execution_count": 113,
   "metadata": {},
   "outputs": [
    {
     "data": {
      "text/plain": [
       "array([nan, 'Official documentation; Stack Overflow Q&A; Other',\n",
       "       'Official documentation; Trade book; Textbook; Stack Overflow Q&A; Non-Stack online communities; Company internal community; Friends network; Built-in help; Other',\n",
       "       ...,\n",
       "       'Non-Stack online communities; Tutoring/mentoring; Friends network',\n",
       "       'Official documentation; Trade book; Textbook; Non-Stack online communities; Company internal community; Tutoring/mentoring; Friends network; Built-in help',\n",
       "       'Official documentation; Non-Stack online communities; Company internal community; Tutoring/mentoring; Friends network'],\n",
       "      dtype=object)"
      ]
     },
     "execution_count": 113,
     "metadata": {},
     "output_type": "execute_result"
    }
   ],
   "source": [
    "df.SelfTaughtTypes.unique()"
   ]
  },
  {
   "cell_type": "code",
   "execution_count": 114,
   "metadata": {},
   "outputs": [
    {
     "data": {
      "text/plain": [
       "1149"
      ]
     },
     "execution_count": 114,
     "metadata": {},
     "output_type": "execute_result"
    }
   ],
   "source": [
    "df.SelfTaughtTypes.nunique()"
   ]
  },
  {
   "cell_type": "markdown",
   "metadata": {},
   "source": [
    "=> Will split into different columns of individual attributes later. It is hard to work with it like this."
   ]
  },
  {
   "cell_type": "markdown",
   "metadata": {},
   "source": [
    "Examine EnjoyDebugging column, percentage of missing values first, then distribution of values"
   ]
  },
  {
   "cell_type": "code",
   "execution_count": 115,
   "metadata": {},
   "outputs": [
    {
     "data": {
      "text/plain": [
       "0.42082425280199254"
      ]
     },
     "execution_count": 115,
     "metadata": {},
     "output_type": "execute_result"
    }
   ],
   "source": [
    "print(missing_values(\"EnjoyDebugging\"))"
   ]
  },
  {
   "cell_type": "code",
   "execution_count": 26,
   "metadata": {},
   "outputs": [
    {
     "data": {
      "image/png": "[encoded data removed]",
      "text/plain": [
       "<Figure size 432x288 with 1 Axes>"
      ]
     },
     "metadata": {
      "needs_background": "light"
     },
     "output_type": "display_data"
    }
   ],
   "source": [
    "#check distribution of values\n",
    "value_dist(\"EnjoyDebugging\")"
   ]
  },
  {
   "cell_type": "markdown",
   "metadata": {},
   "source": [
    "Examine DifficultCommunication column, percentage of missing values first"
   ]
  },
  {
   "cell_type": "code",
   "execution_count": 120,
   "metadata": {},
   "outputs": [
    {
     "data": {
      "text/plain": [
       "0.4232565379825654"
      ]
     },
     "execution_count": 120,
     "metadata": {},
     "output_type": "execute_result"
    }
   ],
   "source": [
    "print(missing_values(\"DifficultCommunication\"))"
   ]
  },
  {
   "cell_type": "code",
   "execution_count": 27,
   "metadata": {},
   "outputs": [
    {
     "data": {
      "image/png": "[encoded data removed]",
      "text/plain": [
       "<Figure size 432x288 with 1 Axes>"
      ]
     },
     "metadata": {
      "needs_background": "light"
     },
     "output_type": "display_data"
    }
   ],
   "source": [
    "#check distribution of values\n",
    "value_dist(\"DifficultCommunication\")"
   ]
  },
  {
   "cell_type": "markdown",
   "metadata": {},
   "source": [
    "Examine ShipIt column, percentage of missing values first"
   ]
  },
  {
   "cell_type": "code",
   "execution_count": 122,
   "metadata": {},
   "outputs": [
    {
     "data": {
      "text/plain": [
       "0.4232370797011208"
      ]
     },
     "execution_count": 122,
     "metadata": {},
     "output_type": "execute_result"
    }
   ],
   "source": [
    "print(missing_values(\"ShipIt\"))"
   ]
  },
  {
   "cell_type": "code",
   "execution_count": 28,
   "metadata": {},
   "outputs": [
    {
     "data": {
      "image/png": "[encoded data removed]",
      "text/plain": [
       "<Figure size 432x288 with 1 Axes>"
      ]
     },
     "metadata": {
      "needs_background": "light"
     },
     "output_type": "display_data"
    }
   ],
   "source": [
    "#check distribution of values\n",
    "value_dist(\"ShipIt\")"
   ]
  },
  {
   "cell_type": "markdown",
   "metadata": {},
   "source": [
    "Examine ProgramHobby column, percentage of missing values first"
   ]
  },
  {
   "cell_type": "code",
   "execution_count": 24,
   "metadata": {},
   "outputs": [
    {
     "name": "stdout",
     "output_type": "stream",
     "text": [
      "0.0\n"
     ]
    }
   ],
   "source": [
    "print(missing_values(\"ProgramHobby\"))"
   ]
  },
  {
   "cell_type": "code",
   "execution_count": 29,
   "metadata": {},
   "outputs": [
    {
     "data": {
      "image/png": "[encoded data removed]",
      "text/plain": [
       "<Figure size 432x288 with 1 Axes>"
      ]
     },
     "metadata": {
      "needs_background": "light"
     },
     "output_type": "display_data"
    }
   ],
   "source": [
    "#check distribution of values\n",
    "value_dist(\"ProgramHobby\")"
   ]
  },
  {
   "cell_type": "markdown",
   "metadata": {},
   "source": [
    "Examine Professional column, percentage of missing values first"
   ]
  },
  {
   "cell_type": "code",
   "execution_count": 126,
   "metadata": {},
   "outputs": [
    {
     "data": {
      "text/plain": [
       "0.0"
      ]
     },
     "execution_count": 126,
     "metadata": {},
     "output_type": "execute_result"
    }
   ],
   "source": [
    "print(missing_values(\"Professional\"))"
   ]
  },
  {
   "cell_type": "code",
   "execution_count": 30,
   "metadata": {},
   "outputs": [
    {
     "data": {
      "image/png": "[encoded data removed]",
      "text/plain": [
       "<Figure size 432x288 with 1 Axes>"
      ]
     },
     "metadata": {
      "needs_background": "light"
     },
     "output_type": "display_data"
    }
   ],
   "source": [
    "#check distribution of values\n",
    "value_dist(\"Professional\")"
   ]
  },
  {
   "cell_type": "markdown",
   "metadata": {},
   "source": [
    "Examine FormalEducation column, percentage of missing values first"
   ]
  },
  {
   "cell_type": "code",
   "execution_count": 128,
   "metadata": {},
   "outputs": [
    {
     "data": {
      "text/plain": [
       "0.0"
      ]
     },
     "execution_count": 128,
     "metadata": {},
     "output_type": "execute_result"
    }
   ],
   "source": [
    "print(missing_values(\"FormalEducation\"))"
   ]
  },
  {
   "cell_type": "code",
   "execution_count": 31,
   "metadata": {},
   "outputs": [
    {
     "data": {
      "image/png": "[encoded data removed]",
      "text/plain": [
       "<Figure size 432x288 with 1 Axes>"
      ]
     },
     "metadata": {
      "needs_background": "light"
     },
     "output_type": "display_data"
    }
   ],
   "source": [
    "#check distribution of values\n",
    "value_dist(\"FormalEducation\")"
   ]
  },
  {
   "cell_type": "markdown",
   "metadata": {},
   "source": [
    "Examine HomeRemote column, percentage of missing values first"
   ]
  },
  {
   "cell_type": "code",
   "execution_count": 130,
   "metadata": {},
   "outputs": [
    {
     "data": {
      "text/plain": [
       "0.1436799501867995"
      ]
     },
     "execution_count": 130,
     "metadata": {},
     "output_type": "execute_result"
    }
   ],
   "source": [
    "print(missing_values(\"HomeRemote\"))"
   ]
  },
  {
   "cell_type": "code",
   "execution_count": 32,
   "metadata": {},
   "outputs": [
    {
     "data": {
      "image/png": "[encoded data removed]",
      "text/plain": [
       "<Figure size 432x288 with 1 Axes>"
      ]
     },
     "metadata": {
      "needs_background": "light"
     },
     "output_type": "display_data"
    }
   ],
   "source": [
    "#check distribution of values\n",
    "value_dist(\"HomeRemote\")"
   ]
  },
  {
   "cell_type": "markdown",
   "metadata": {},
   "source": [
    "This concludes the examination of the columns we want to use for prediction later. None of them seems to have a very high number of missing values. So I will try to drop rows with null values instead of imputing values. Will impute if we end up with too few rows! However we will have to work on the selftaughttypes column."
   ]
  },
  {
   "cell_type": "markdown",
   "metadata": {},
   "source": [
    "### Data preperation"
   ]
  },
  {
   "cell_type": "markdown",
   "metadata": {},
   "source": [
    "Splitting selftaughttypes into individual strings, based on ; separator"
   ]
  },
  {
   "cell_type": "code",
   "execution_count": 132,
   "metadata": {},
   "outputs": [
    {
     "name": "stderr",
     "output_type": "stream",
     "text": [
      "C:\\Users\\boert\\Anaconda3\\lib\\site-packages\\ipykernel_launcher.py:1: UserWarning: Pandas doesn't allow columns to be created via a new attribute name - see https://pandas.pydata.org/pandas-docs/stable/indexing.html#attribute-access\n",
      "  \"\"\"Entry point for launching an IPython kernel.\n"
     ]
    }
   ],
   "source": [
    "df.SelfTaughtTypeslist=df.SelfTaughtTypes.str.split(\";\")"
   ]
  },
  {
   "cell_type": "code",
   "execution_count": 133,
   "metadata": {},
   "outputs": [
    {
     "data": {
      "text/plain": [
       "Official documentation           21434\n",
       " Stack Overflow Q&A              19986\n",
       " Non-Stack online communities    13348\n",
       " Built-in help                   12541\n",
       " Trade book                      11645\n",
       " Stack Overflow Docs              7185\n",
       " Friends network                  5499\n",
       " Textbook                         5098\n",
       " Company internal community       4911\n",
       " Other                            2951\n",
       "Trade book                        2744\n",
       "Stack Overflow Q&A                1423\n",
       " Tutoring/mentoring               1147\n",
       "Textbook                           460\n",
       "Non-Stack online communities       198\n",
       "Other                              178\n",
       "Stack Overflow Docs                163\n",
       "Built-in help                       44\n",
       "Friends network                     38\n",
       "Company internal community          36\n",
       "Tutoring/mentoring                  17\n",
       "dtype: int64"
      ]
     },
     "execution_count": 133,
     "metadata": {},
     "output_type": "execute_result"
    }
   ],
   "source": [
    "df.SelfTaughtTypeslist.apply(pd.Series).stack().value_counts()"
   ]
  },
  {
   "cell_type": "markdown",
   "metadata": {},
   "source": [
    "introduce new columns instead of selftaughttypes - depending on the individual values"
   ]
  },
  {
   "cell_type": "code",
   "execution_count": 134,
   "metadata": {
    "scrolled": true
   },
   "outputs": [],
   "source": [
    "#put all possible values in array, not considering spaces\n",
    "possible_vals = [\"Official documentation\", \"Stack Overflow Q&A\", \n",
    "                 \"Other\", \"Trade book\", \"Textbook\", \"Stack Overflow Docs\",\n",
    "                 \"Non-Stack online communities\", \"Company internal community\", \"Friends network\",\n",
    "                 \"Built-in help\", \"Tutoring/mentoring\"]\n",
    "#dropping na and resetting index\n",
    "df=df.dropna(subset=[\"SelfTaughtTypes\"]).reset_index()\n",
    "df=df.reindex(df.columns.tolist() + possible_vals, axis=1)\n",
    "for val in possible_vals:\n",
    "    df[val]=df[\"SelfTaughtTypes\"].apply(lambda x: 1 if val in x else 0)"
   ]
  },
  {
   "cell_type": "markdown",
   "metadata": {},
   "source": [
    "See if it worked"
   ]
  },
  {
   "cell_type": "code",
   "execution_count": 135,
   "metadata": {},
   "outputs": [
    {
     "data": {
      "text/html": [
       "<div>\n",
       "<style scoped>\n",
       "    .dataframe tbody tr th:only-of-type {\n",
       "        vertical-align: middle;\n",
       "    }\n",
       "\n",
       "    .dataframe tbody tr th {\n",
       "        vertical-align: top;\n",
       "    }\n",
       "\n",
       "    .dataframe thead th {\n",
       "        text-align: right;\n",
       "    }\n",
       "</style>\n",
       "<table border=\"1\" class=\"dataframe\">\n",
       "  <thead>\n",
       "    <tr style=\"text-align: right;\">\n",
       "      <th></th>\n",
       "      <th>index</th>\n",
       "      <th>Respondent</th>\n",
       "      <th>Professional</th>\n",
       "      <th>ProgramHobby</th>\n",
       "      <th>Country</th>\n",
       "      <th>University</th>\n",
       "      <th>EmploymentStatus</th>\n",
       "      <th>FormalEducation</th>\n",
       "      <th>MajorUndergrad</th>\n",
       "      <th>HomeRemote</th>\n",
       "      <th>...</th>\n",
       "      <th>Stack Overflow Q&amp;A</th>\n",
       "      <th>Other</th>\n",
       "      <th>Trade book</th>\n",
       "      <th>Textbook</th>\n",
       "      <th>Stack Overflow Docs</th>\n",
       "      <th>Non-Stack online communities</th>\n",
       "      <th>Company internal community</th>\n",
       "      <th>Friends network</th>\n",
       "      <th>Built-in help</th>\n",
       "      <th>Tutoring/mentoring</th>\n",
       "    </tr>\n",
       "  </thead>\n",
       "  <tbody>\n",
       "    <tr>\n",
       "      <th>0</th>\n",
       "      <td>1</td>\n",
       "      <td>2</td>\n",
       "      <td>Student</td>\n",
       "      <td>Yes, both</td>\n",
       "      <td>United Kingdom</td>\n",
       "      <td>Yes, full-time</td>\n",
       "      <td>Employed part-time</td>\n",
       "      <td>Some college/university study without earning ...</td>\n",
       "      <td>Computer science or software engineering</td>\n",
       "      <td>More than half, but not all, the time</td>\n",
       "      <td>...</td>\n",
       "      <td>1</td>\n",
       "      <td>1</td>\n",
       "      <td>0</td>\n",
       "      <td>0</td>\n",
       "      <td>0</td>\n",
       "      <td>0</td>\n",
       "      <td>0</td>\n",
       "      <td>0</td>\n",
       "      <td>0</td>\n",
       "      <td>0</td>\n",
       "    </tr>\n",
       "    <tr>\n",
       "      <th>1</th>\n",
       "      <td>2</td>\n",
       "      <td>3</td>\n",
       "      <td>Professional developer</td>\n",
       "      <td>Yes, both</td>\n",
       "      <td>United Kingdom</td>\n",
       "      <td>No</td>\n",
       "      <td>Employed full-time</td>\n",
       "      <td>Bachelor's degree</td>\n",
       "      <td>Computer science or software engineering</td>\n",
       "      <td>Less than half the time, but at least one day ...</td>\n",
       "      <td>...</td>\n",
       "      <td>1</td>\n",
       "      <td>1</td>\n",
       "      <td>1</td>\n",
       "      <td>1</td>\n",
       "      <td>0</td>\n",
       "      <td>1</td>\n",
       "      <td>1</td>\n",
       "      <td>1</td>\n",
       "      <td>1</td>\n",
       "      <td>0</td>\n",
       "    </tr>\n",
       "    <tr>\n",
       "      <th>2</th>\n",
       "      <td>5</td>\n",
       "      <td>6</td>\n",
       "      <td>Student</td>\n",
       "      <td>Yes, both</td>\n",
       "      <td>New Zealand</td>\n",
       "      <td>Yes, full-time</td>\n",
       "      <td>Not employed, and not looking for work</td>\n",
       "      <td>Secondary school</td>\n",
       "      <td>NaN</td>\n",
       "      <td>NaN</td>\n",
       "      <td>...</td>\n",
       "      <td>1</td>\n",
       "      <td>0</td>\n",
       "      <td>0</td>\n",
       "      <td>0</td>\n",
       "      <td>0</td>\n",
       "      <td>1</td>\n",
       "      <td>0</td>\n",
       "      <td>0</td>\n",
       "      <td>1</td>\n",
       "      <td>0</td>\n",
       "    </tr>\n",
       "    <tr>\n",
       "      <th>3</th>\n",
       "      <td>6</td>\n",
       "      <td>7</td>\n",
       "      <td>Professional non-developer who sometimes write...</td>\n",
       "      <td>Yes, both</td>\n",
       "      <td>United States</td>\n",
       "      <td>No</td>\n",
       "      <td>Employed full-time</td>\n",
       "      <td>Master's degree</td>\n",
       "      <td>A non-computer-focused engineering discipline</td>\n",
       "      <td>Less than half the time, but at least one day ...</td>\n",
       "      <td>...</td>\n",
       "      <td>1</td>\n",
       "      <td>0</td>\n",
       "      <td>1</td>\n",
       "      <td>1</td>\n",
       "      <td>0</td>\n",
       "      <td>0</td>\n",
       "      <td>0</td>\n",
       "      <td>1</td>\n",
       "      <td>1</td>\n",
       "      <td>0</td>\n",
       "    </tr>\n",
       "    <tr>\n",
       "      <th>4</th>\n",
       "      <td>7</td>\n",
       "      <td>8</td>\n",
       "      <td>Professional developer</td>\n",
       "      <td>Yes, both</td>\n",
       "      <td>Poland</td>\n",
       "      <td>No</td>\n",
       "      <td>Employed full-time</td>\n",
       "      <td>Master's degree</td>\n",
       "      <td>Computer science or software engineering</td>\n",
       "      <td>All or almost all the time (I'm full-time remote)</td>\n",
       "      <td>...</td>\n",
       "      <td>1</td>\n",
       "      <td>0</td>\n",
       "      <td>1</td>\n",
       "      <td>0</td>\n",
       "      <td>1</td>\n",
       "      <td>0</td>\n",
       "      <td>0</td>\n",
       "      <td>0</td>\n",
       "      <td>1</td>\n",
       "      <td>0</td>\n",
       "    </tr>\n",
       "  </tbody>\n",
       "</table>\n",
       "<p>5 rows × 166 columns</p>\n",
       "</div>"
      ],
      "text/plain": [
       "   index  Respondent                                       Professional  \\\n",
       "0      1           2                                            Student   \n",
       "1      2           3                             Professional developer   \n",
       "2      5           6                                            Student   \n",
       "3      6           7  Professional non-developer who sometimes write...   \n",
       "4      7           8                             Professional developer   \n",
       "\n",
       "  ProgramHobby         Country      University  \\\n",
       "0    Yes, both  United Kingdom  Yes, full-time   \n",
       "1    Yes, both  United Kingdom              No   \n",
       "2    Yes, both     New Zealand  Yes, full-time   \n",
       "3    Yes, both   United States              No   \n",
       "4    Yes, both          Poland              No   \n",
       "\n",
       "                         EmploymentStatus  \\\n",
       "0                      Employed part-time   \n",
       "1                      Employed full-time   \n",
       "2  Not employed, and not looking for work   \n",
       "3                      Employed full-time   \n",
       "4                      Employed full-time   \n",
       "\n",
       "                                     FormalEducation  \\\n",
       "0  Some college/university study without earning ...   \n",
       "1                                  Bachelor's degree   \n",
       "2                                   Secondary school   \n",
       "3                                    Master's degree   \n",
       "4                                    Master's degree   \n",
       "\n",
       "                                  MajorUndergrad  \\\n",
       "0       Computer science or software engineering   \n",
       "1       Computer science or software engineering   \n",
       "2                                            NaN   \n",
       "3  A non-computer-focused engineering discipline   \n",
       "4       Computer science or software engineering   \n",
       "\n",
       "                                          HomeRemote         ...          \\\n",
       "0              More than half, but not all, the time         ...           \n",
       "1  Less than half the time, but at least one day ...         ...           \n",
       "2                                                NaN         ...           \n",
       "3  Less than half the time, but at least one day ...         ...           \n",
       "4  All or almost all the time (I'm full-time remote)         ...           \n",
       "\n",
       "  Stack Overflow Q&A Other Trade book Textbook Stack Overflow Docs  \\\n",
       "0                  1     1          0        0                   0   \n",
       "1                  1     1          1        1                   0   \n",
       "2                  1     0          0        0                   0   \n",
       "3                  1     0          1        1                   0   \n",
       "4                  1     0          1        0                   1   \n",
       "\n",
       "  Non-Stack online communities Company internal community Friends network  \\\n",
       "0                            0                          0               0   \n",
       "1                            1                          1               1   \n",
       "2                            1                          0               0   \n",
       "3                            0                          0               1   \n",
       "4                            0                          0               0   \n",
       "\n",
       "  Built-in help  Tutoring/mentoring  \n",
       "0             0                   0  \n",
       "1             1                   0  \n",
       "2             1                   0  \n",
       "3             1                   0  \n",
       "4             1                   0  \n",
       "\n",
       "[5 rows x 166 columns]"
      ]
     },
     "execution_count": 135,
     "metadata": {},
     "output_type": "execute_result"
    }
   ],
   "source": [
    "df.head()"
   ]
  },
  {
   "cell_type": "markdown",
   "metadata": {},
   "source": [
    "define dataframe for predicting and see how many rows are left after dropping NA"
   ]
  },
  {
   "cell_type": "code",
   "execution_count": 136,
   "metadata": {},
   "outputs": [],
   "source": [
    "#define columns that will be taken into account for predicting otherpeoplescode column\n",
    "df_pred=df[[\"HomeRemote\",\"FormalEducation\",\"Professional\",\"ProgramHobby\",\"OtherPeoplesCode\",\"EnjoyDebugging\",\"ShipIt\",\"DifficultCommunication\",\"Official documentation\", \"Stack Overflow Q&A\", \n",
    "                 \"Other\", \"Trade book\", \"Textbook\", \"Stack Overflow Docs\",\n",
    "                 \"Non-Stack online communities\", \"Company internal community\", \"Friends network\",\n",
    "                 \"Built-in help\", \"Tutoring/mentoring\"]]\n",
    "\n",
    "#columns do not seem to be terribly well suited for imputing: drop na rows\n",
    "df_pred=df_pred.dropna()"
   ]
  },
  {
   "cell_type": "code",
   "execution_count": 137,
   "metadata": {},
   "outputs": [
    {
     "name": "stdout",
     "output_type": "stream",
     "text": [
      "<class 'pandas.core.frame.DataFrame'>\n",
      "Int64Index: 15712 entries, 0 to 26731\n",
      "Data columns (total 19 columns):\n",
      "HomeRemote                      15712 non-null object\n",
      "FormalEducation                 15712 non-null object\n",
      "Professional                    15712 non-null object\n",
      "ProgramHobby                    15712 non-null object\n",
      "OtherPeoplesCode                15712 non-null object\n",
      "EnjoyDebugging                  15712 non-null object\n",
      "ShipIt                          15712 non-null object\n",
      "DifficultCommunication          15712 non-null object\n",
      "Official documentation          15712 non-null int64\n",
      "Stack Overflow Q&A              15712 non-null int64\n",
      "Other                           15712 non-null int64\n",
      "Trade book                      15712 non-null int64\n",
      "Textbook                        15712 non-null int64\n",
      "Stack Overflow Docs             15712 non-null int64\n",
      "Non-Stack online communities    15712 non-null int64\n",
      "Company internal community      15712 non-null int64\n",
      "Friends network                 15712 non-null int64\n",
      "Built-in help                   15712 non-null int64\n",
      "Tutoring/mentoring              15712 non-null int64\n",
      "dtypes: int64(11), object(8)\n",
      "memory usage: 2.4+ MB\n"
     ]
    }
   ],
   "source": [
    "df_pred.info()"
   ]
  },
  {
   "cell_type": "markdown",
   "metadata": {},
   "source": [
    "With 15,7k rows to work with, we can try RF and don't need to impute values"
   ]
  },
  {
   "cell_type": "code",
   "execution_count": 138,
   "metadata": {},
   "outputs": [],
   "source": [
    "y=df_pred.OtherPeoplesCode"
   ]
  },
  {
   "cell_type": "code",
   "execution_count": 139,
   "metadata": {},
   "outputs": [],
   "source": [
    "X=df_pred.drop(labels=\"OtherPeoplesCode\",axis=1)"
   ]
  },
  {
   "cell_type": "code",
   "execution_count": 140,
   "metadata": {},
   "outputs": [],
   "source": [
    "#getdummy columns for categorical columns\n",
    "for col in [\"HomeRemote\",\"FormalEducation\",\"Professional\",\"ProgramHobby\",\"EnjoyDebugging\",\"ShipIt\",\"DifficultCommunication\"]:\n",
    "        X=pd.concat([X.drop(col,axis=1),pd.get_dummies(X[col],prefix=col,prefix_sep=\"_\",drop_first=True)],axis=1)"
   ]
  },
  {
   "cell_type": "code",
   "execution_count": 141,
   "metadata": {},
   "outputs": [
    {
     "data": {
      "text/html": [
       "<div>\n",
       "<style scoped>\n",
       "    .dataframe tbody tr th:only-of-type {\n",
       "        vertical-align: middle;\n",
       "    }\n",
       "\n",
       "    .dataframe tbody tr th {\n",
       "        vertical-align: top;\n",
       "    }\n",
       "\n",
       "    .dataframe thead th {\n",
       "        text-align: right;\n",
       "    }\n",
       "</style>\n",
       "<table border=\"1\" class=\"dataframe\">\n",
       "  <thead>\n",
       "    <tr style=\"text-align: right;\">\n",
       "      <th></th>\n",
       "      <th>Official documentation</th>\n",
       "      <th>Stack Overflow Q&amp;A</th>\n",
       "      <th>Other</th>\n",
       "      <th>Trade book</th>\n",
       "      <th>Textbook</th>\n",
       "      <th>Stack Overflow Docs</th>\n",
       "      <th>Non-Stack online communities</th>\n",
       "      <th>Company internal community</th>\n",
       "      <th>Friends network</th>\n",
       "      <th>Built-in help</th>\n",
       "      <th>...</th>\n",
       "      <th>EnjoyDebugging_Strongly agree</th>\n",
       "      <th>EnjoyDebugging_Strongly disagree</th>\n",
       "      <th>ShipIt_Disagree</th>\n",
       "      <th>ShipIt_Somewhat agree</th>\n",
       "      <th>ShipIt_Strongly agree</th>\n",
       "      <th>ShipIt_Strongly disagree</th>\n",
       "      <th>DifficultCommunication_Disagree</th>\n",
       "      <th>DifficultCommunication_Somewhat agree</th>\n",
       "      <th>DifficultCommunication_Strongly agree</th>\n",
       "      <th>DifficultCommunication_Strongly disagree</th>\n",
       "    </tr>\n",
       "  </thead>\n",
       "  <tbody>\n",
       "    <tr>\n",
       "      <th>0</th>\n",
       "      <td>1</td>\n",
       "      <td>1</td>\n",
       "      <td>1</td>\n",
       "      <td>0</td>\n",
       "      <td>0</td>\n",
       "      <td>0</td>\n",
       "      <td>0</td>\n",
       "      <td>0</td>\n",
       "      <td>0</td>\n",
       "      <td>0</td>\n",
       "      <td>...</td>\n",
       "      <td>0</td>\n",
       "      <td>0</td>\n",
       "      <td>0</td>\n",
       "      <td>0</td>\n",
       "      <td>0</td>\n",
       "      <td>0</td>\n",
       "      <td>1</td>\n",
       "      <td>0</td>\n",
       "      <td>0</td>\n",
       "      <td>0</td>\n",
       "    </tr>\n",
       "    <tr>\n",
       "      <th>1</th>\n",
       "      <td>1</td>\n",
       "      <td>1</td>\n",
       "      <td>1</td>\n",
       "      <td>1</td>\n",
       "      <td>1</td>\n",
       "      <td>0</td>\n",
       "      <td>1</td>\n",
       "      <td>1</td>\n",
       "      <td>1</td>\n",
       "      <td>1</td>\n",
       "      <td>...</td>\n",
       "      <td>0</td>\n",
       "      <td>0</td>\n",
       "      <td>0</td>\n",
       "      <td>0</td>\n",
       "      <td>0</td>\n",
       "      <td>0</td>\n",
       "      <td>1</td>\n",
       "      <td>0</td>\n",
       "      <td>0</td>\n",
       "      <td>0</td>\n",
       "    </tr>\n",
       "    <tr>\n",
       "      <th>4</th>\n",
       "      <td>1</td>\n",
       "      <td>1</td>\n",
       "      <td>0</td>\n",
       "      <td>1</td>\n",
       "      <td>0</td>\n",
       "      <td>1</td>\n",
       "      <td>0</td>\n",
       "      <td>0</td>\n",
       "      <td>0</td>\n",
       "      <td>1</td>\n",
       "      <td>...</td>\n",
       "      <td>0</td>\n",
       "      <td>0</td>\n",
       "      <td>0</td>\n",
       "      <td>0</td>\n",
       "      <td>0</td>\n",
       "      <td>0</td>\n",
       "      <td>0</td>\n",
       "      <td>1</td>\n",
       "      <td>0</td>\n",
       "      <td>0</td>\n",
       "    </tr>\n",
       "    <tr>\n",
       "      <th>5</th>\n",
       "      <td>1</td>\n",
       "      <td>0</td>\n",
       "      <td>0</td>\n",
       "      <td>1</td>\n",
       "      <td>0</td>\n",
       "      <td>0</td>\n",
       "      <td>1</td>\n",
       "      <td>0</td>\n",
       "      <td>0</td>\n",
       "      <td>1</td>\n",
       "      <td>...</td>\n",
       "      <td>0</td>\n",
       "      <td>0</td>\n",
       "      <td>0</td>\n",
       "      <td>1</td>\n",
       "      <td>0</td>\n",
       "      <td>0</td>\n",
       "      <td>1</td>\n",
       "      <td>0</td>\n",
       "      <td>0</td>\n",
       "      <td>0</td>\n",
       "    </tr>\n",
       "    <tr>\n",
       "      <th>6</th>\n",
       "      <td>1</td>\n",
       "      <td>1</td>\n",
       "      <td>0</td>\n",
       "      <td>1</td>\n",
       "      <td>0</td>\n",
       "      <td>0</td>\n",
       "      <td>0</td>\n",
       "      <td>0</td>\n",
       "      <td>0</td>\n",
       "      <td>0</td>\n",
       "      <td>...</td>\n",
       "      <td>0</td>\n",
       "      <td>0</td>\n",
       "      <td>0</td>\n",
       "      <td>1</td>\n",
       "      <td>0</td>\n",
       "      <td>0</td>\n",
       "      <td>1</td>\n",
       "      <td>0</td>\n",
       "      <td>0</td>\n",
       "      <td>0</td>\n",
       "    </tr>\n",
       "  </tbody>\n",
       "</table>\n",
       "<p>5 rows × 44 columns</p>\n",
       "</div>"
      ],
      "text/plain": [
       "   Official documentation  Stack Overflow Q&A  Other  Trade book  Textbook  \\\n",
       "0                       1                   1      1           0         0   \n",
       "1                       1                   1      1           1         1   \n",
       "4                       1                   1      0           1         0   \n",
       "5                       1                   0      0           1         0   \n",
       "6                       1                   1      0           1         0   \n",
       "\n",
       "   Stack Overflow Docs  Non-Stack online communities  \\\n",
       "0                    0                             0   \n",
       "1                    0                             1   \n",
       "4                    1                             0   \n",
       "5                    0                             1   \n",
       "6                    0                             0   \n",
       "\n",
       "   Company internal community  Friends network  Built-in help  \\\n",
       "0                           0                0              0   \n",
       "1                           1                1              1   \n",
       "4                           0                0              1   \n",
       "5                           0                0              1   \n",
       "6                           0                0              0   \n",
       "\n",
       "                     ...                     EnjoyDebugging_Strongly agree  \\\n",
       "0                    ...                                                 0   \n",
       "1                    ...                                                 0   \n",
       "4                    ...                                                 0   \n",
       "5                    ...                                                 0   \n",
       "6                    ...                                                 0   \n",
       "\n",
       "   EnjoyDebugging_Strongly disagree  ShipIt_Disagree  ShipIt_Somewhat agree  \\\n",
       "0                                 0                0                      0   \n",
       "1                                 0                0                      0   \n",
       "4                                 0                0                      0   \n",
       "5                                 0                0                      1   \n",
       "6                                 0                0                      1   \n",
       "\n",
       "   ShipIt_Strongly agree  ShipIt_Strongly disagree  \\\n",
       "0                      0                         0   \n",
       "1                      0                         0   \n",
       "4                      0                         0   \n",
       "5                      0                         0   \n",
       "6                      0                         0   \n",
       "\n",
       "   DifficultCommunication_Disagree  DifficultCommunication_Somewhat agree  \\\n",
       "0                                1                                      0   \n",
       "1                                1                                      0   \n",
       "4                                0                                      1   \n",
       "5                                1                                      0   \n",
       "6                                1                                      0   \n",
       "\n",
       "   DifficultCommunication_Strongly agree  \\\n",
       "0                                      0   \n",
       "1                                      0   \n",
       "4                                      0   \n",
       "5                                      0   \n",
       "6                                      0   \n",
       "\n",
       "   DifficultCommunication_Strongly disagree  \n",
       "0                                         0  \n",
       "1                                         0  \n",
       "4                                         0  \n",
       "5                                         0  \n",
       "6                                         0  \n",
       "\n",
       "[5 rows x 44 columns]"
      ]
     },
     "execution_count": 141,
     "metadata": {},
     "output_type": "execute_result"
    }
   ],
   "source": [
    "X.head()"
   ]
  },
  {
   "cell_type": "markdown",
   "metadata": {},
   "source": [
    "#### Modeling"
   ]
  },
  {
   "cell_type": "code",
   "execution_count": 142,
   "metadata": {},
   "outputs": [],
   "source": [
    "#split into train and test data\n",
    "X_train, X_test, y_train, y_test = train_test_split(X, y , test_size=.30, random_state=42)\n"
   ]
  },
  {
   "cell_type": "code",
   "execution_count": 143,
   "metadata": {},
   "outputs": [
    {
     "data": {
      "text/plain": [
       "RandomForestClassifier(bootstrap=True, class_weight=None, criterion='gini',\n",
       "            max_depth=10, max_features='auto', max_leaf_nodes=None,\n",
       "            min_impurity_decrease=0.0, min_impurity_split=None,\n",
       "            min_samples_leaf=1, min_samples_split=2,\n",
       "            min_weight_fraction_leaf=0.0, n_estimators=100, n_jobs=None,\n",
       "            oob_score=False, random_state=42, verbose=0, warm_start=False)"
      ]
     },
     "execution_count": 143,
     "metadata": {},
     "output_type": "execute_result"
    }
   ],
   "source": [
    "#def classifier\n",
    "rf_model=RandomForestClassifier(max_depth=10, n_estimators=100,min_samples_split=2, random_state=42)\n",
    "#fit model\n",
    "rf_model.fit(X_train, y_train)"
   ]
  },
  {
   "cell_type": "markdown",
   "metadata": {},
   "source": [
    "#### Evaluation"
   ]
  },
  {
   "cell_type": "code",
   "execution_count": 144,
   "metadata": {},
   "outputs": [
    {
     "name": "stdout",
     "output_type": "stream",
     "text": [
      "0.4013576580398812\n"
     ]
    }
   ],
   "source": [
    "#check testscore\n",
    "print(rf_model.score(X_test,y_test))"
   ]
  },
  {
   "cell_type": "code",
   "execution_count": 145,
   "metadata": {},
   "outputs": [
    {
     "data": {
      "text/plain": [
       "0.49036188397890523"
      ]
     },
     "execution_count": 145,
     "metadata": {},
     "output_type": "execute_result"
    }
   ],
   "source": [
    "#check trainscore\n",
    "rf_model.score(X_train, y_train)"
   ]
  },
  {
   "cell_type": "code",
   "execution_count": 146,
   "metadata": {},
   "outputs": [
    {
     "name": "stdout",
     "output_type": "stream",
     "text": [
      "                                                    importance\n",
      "EnjoyDebugging_Strongly disagree                      0.037834\n",
      "DifficultCommunication_Disagree                       0.036802\n",
      "EnjoyDebugging_Disagree                               0.035819\n",
      "Built-in help                                         0.035664\n",
      "Trade book                                            0.035037\n",
      "DifficultCommunication_Strongly disagree              0.032838\n",
      "Non-Stack online communities                          0.032579\n",
      "Stack Overflow Docs                                   0.032444\n",
      "Textbook                                              0.032351\n",
      "ShipIt_Disagree                                       0.030802\n",
      "Friends network                                       0.029695\n",
      "Stack Overflow Q&A                                    0.028885\n",
      "Official documentation                                0.028815\n",
      "ProgramHobby_Yes, I program as a hobby                0.028663\n",
      "ProgramHobby_Yes, both                                0.028584\n",
      "Company internal community                            0.028459\n",
      "HomeRemote_Never                                      0.026534\n",
      "FormalEducation_Master's degree                       0.026490\n",
      "Other                                                 0.025937\n",
      "FormalEducation_Some college/university study w...    0.025530\n",
      "Professional_Professional developer                   0.024712\n",
      "HomeRemote_All or almost all the time (I'm full...    0.023906\n",
      "ShipIt_Somewhat agree                                 0.023250\n",
      "EnjoyDebugging_Somewhat agree                         0.022699\n",
      "ShipIt_Strongly disagree                              0.022651\n",
      "Professional_Professional non-developer who som...    0.020601\n",
      "EnjoyDebugging_Strongly agree                         0.020531\n",
      "DifficultCommunication_Somewhat agree                 0.020313\n",
      "FormalEducation_Secondary school                      0.019641\n",
      "HomeRemote_Less than half the time, but at leas...    0.018930\n",
      "ProgramHobby_Yes, I contribute to open source p...    0.017437\n",
      "Tutoring/mentoring                                    0.016692\n",
      "ShipIt_Strongly agree                                 0.016464\n",
      "Professional_Student                                  0.015587\n",
      "HomeRemote_It's complicated                           0.014451\n",
      "FormalEducation_Doctoral degree                       0.014438\n",
      "HomeRemote_More than half, but not all, the time      0.013767\n",
      "HomeRemote_About half the time                        0.012219\n",
      "DifficultCommunication_Strongly agree                 0.009332\n",
      "Professional_Used to be a professional developer      0.007680\n",
      "FormalEducation_Professional degree                   0.006929\n",
      "FormalEducation_Primary/elementary school             0.006858\n",
      "FormalEducation_I prefer not to answer                0.006514\n",
      "FormalEducation_I never completed any formal ed...    0.004631\n"
     ]
    }
   ],
   "source": [
    "#check what features/columns are most important\n",
    "df_feature_importance=pd.DataFrame(rf_model.feature_importances_, index=X_train.columns,\n",
    "                                    columns=['importance']).sort_values('importance',ascending=False)\n",
    "print(df_feature_importance)"
   ]
  },
  {
   "cell_type": "markdown",
   "metadata": {},
   "source": [
    "recheck distribution of otherpeoplescode column after deleting rows with na columns"
   ]
  },
  {
   "cell_type": "code",
   "execution_count": 147,
   "metadata": {
    "scrolled": true
   },
   "outputs": [
    {
     "data": {
      "image/png": "[encoded data removed]",
      "text/plain": [
       "<Figure size 432x288 with 1 Axes>"
      ]
     },
     "metadata": {
      "needs_background": "light"
     },
     "output_type": "display_data"
    }
   ],
   "source": [
    "(df_pred.OtherPeoplesCode.value_counts()/df_pred.shape[0]).plot(kind=\"bar\")\n",
    "plt.title(\"Working with other people's code is torture, overview\");"
   ]
  },
  {
   "cell_type": "code",
   "execution_count": 148,
   "metadata": {},
   "outputs": [
    {
     "data": {
      "text/plain": [
       "Somewhat agree       0.395685\n",
       "Disagree             0.239435\n",
       "Agree                0.224287\n",
       "Strongly agree       0.109280\n",
       "Strongly disagree    0.031314\n",
       "Name: OtherPeoplesCode, dtype: float64"
      ]
     },
     "execution_count": 148,
     "metadata": {},
     "output_type": "execute_result"
    }
   ],
   "source": [
    "df_pred.OtherPeoplesCode.value_counts()/df_pred.shape[0]"
   ]
  },
  {
   "cell_type": "markdown",
   "metadata": {},
   "source": [
    "#### It turns out the random forest model is only marginally better than just predicting \"somewhat agree\" for everything."
   ]
  },
  {
   "cell_type": "markdown",
   "metadata": {},
   "source": [
    "#### How do \"Competing against peers\" and \"challenge myself\" attirbutes correlate?\n",
    "Creating Heatmap of CompetePeers and ChallengeMyself data to see if there are generally more competetive and less competitive people (towards themselves and other people)"
   ]
  },
  {
   "cell_type": "code",
   "execution_count": 149,
   "metadata": {},
   "outputs": [],
   "source": [
    "df_heatmap=df[[\"CompetePeers\",\"ChallengeMyself\"]]\n",
    "df_heatmap=df_heatmap.dropna(axis=0,how=\"any\")"
   ]
  },
  {
   "cell_type": "code",
   "execution_count": 150,
   "metadata": {},
   "outputs": [],
   "source": [
    "piv=df.pivot_table(index=df_heatmap[\"CompetePeers\"],columns=df_heatmap[\"ChallengeMyself\"],aggfunc='size',fill_value=0)"
   ]
  },
  {
   "cell_type": "code",
   "execution_count": 151,
   "metadata": {},
   "outputs": [
    {
     "data": {
      "text/html": [
       "<div>\n",
       "<style scoped>\n",
       "    .dataframe tbody tr th:only-of-type {\n",
       "        vertical-align: middle;\n",
       "    }\n",
       "\n",
       "    .dataframe tbody tr th {\n",
       "        vertical-align: top;\n",
       "    }\n",
       "\n",
       "    .dataframe thead th {\n",
       "        text-align: right;\n",
       "    }\n",
       "</style>\n",
       "<table border=\"1\" class=\"dataframe\">\n",
       "  <thead>\n",
       "    <tr style=\"text-align: right;\">\n",
       "      <th>ChallengeMyself</th>\n",
       "      <th>Agree</th>\n",
       "      <th>Disagree</th>\n",
       "      <th>Somewhat agree</th>\n",
       "      <th>Strongly agree</th>\n",
       "      <th>Strongly disagree</th>\n",
       "    </tr>\n",
       "    <tr>\n",
       "      <th>CompetePeers</th>\n",
       "      <th></th>\n",
       "      <th></th>\n",
       "      <th></th>\n",
       "      <th></th>\n",
       "      <th></th>\n",
       "    </tr>\n",
       "  </thead>\n",
       "  <tbody>\n",
       "    <tr>\n",
       "      <th>Agree</th>\n",
       "      <td>1814</td>\n",
       "      <td>30</td>\n",
       "      <td>325</td>\n",
       "      <td>1484</td>\n",
       "      <td>4</td>\n",
       "    </tr>\n",
       "    <tr>\n",
       "      <th>Disagree</th>\n",
       "      <td>3092</td>\n",
       "      <td>100</td>\n",
       "      <td>819</td>\n",
       "      <td>1988</td>\n",
       "      <td>2</td>\n",
       "    </tr>\n",
       "    <tr>\n",
       "      <th>Somewhat agree</th>\n",
       "      <td>2558</td>\n",
       "      <td>67</td>\n",
       "      <td>655</td>\n",
       "      <td>1809</td>\n",
       "      <td>4</td>\n",
       "    </tr>\n",
       "    <tr>\n",
       "      <th>Strongly agree</th>\n",
       "      <td>275</td>\n",
       "      <td>9</td>\n",
       "      <td>52</td>\n",
       "      <td>946</td>\n",
       "      <td>5</td>\n",
       "    </tr>\n",
       "    <tr>\n",
       "      <th>Strongly disagree</th>\n",
       "      <td>822</td>\n",
       "      <td>50</td>\n",
       "      <td>296</td>\n",
       "      <td>833</td>\n",
       "      <td>27</td>\n",
       "    </tr>\n",
       "  </tbody>\n",
       "</table>\n",
       "</div>"
      ],
      "text/plain": [
       "ChallengeMyself    Agree  Disagree  Somewhat agree  Strongly agree  \\\n",
       "CompetePeers                                                         \n",
       "Agree               1814        30             325            1484   \n",
       "Disagree            3092       100             819            1988   \n",
       "Somewhat agree      2558        67             655            1809   \n",
       "Strongly agree       275         9              52             946   \n",
       "Strongly disagree    822        50             296             833   \n",
       "\n",
       "ChallengeMyself    Strongly disagree  \n",
       "CompetePeers                          \n",
       "Agree                              4  \n",
       "Disagree                           2  \n",
       "Somewhat agree                     4  \n",
       "Strongly agree                     5  \n",
       "Strongly disagree                 27  "
      ]
     },
     "execution_count": 151,
     "metadata": {},
     "output_type": "execute_result"
    }
   ],
   "source": [
    "df.pivot_table(index=df_heatmap[\"CompetePeers\"],columns=df_heatmap[\"ChallengeMyself\"],aggfunc='size',fill_value=0)"
   ]
  },
  {
   "cell_type": "code",
   "execution_count": 152,
   "metadata": {},
   "outputs": [],
   "source": [
    "piv=piv[[\"Strongly agree\",\"Agree\",\"Somewhat agree\",\"Disagree\",\"Strongly disagree\"]]\n",
    "piv=piv.reindex([\"Strongly disagree\",\"Disagree\",\"Somewhat agree\",\"Agree\",\"Strongly agree\"])\n",
    "\n",
    "piv=piv/np.sum(piv.sum())"
   ]
  },
  {
   "cell_type": "code",
   "execution_count": 153,
   "metadata": {},
   "outputs": [
    {
     "data": {
      "image/png": "[encoded data removed]",
      "text/plain": [
       "<Figure size 432x288 with 2 Axes>"
      ]
     },
     "metadata": {
      "needs_background": "light"
     },
     "output_type": "display_data"
    }
   ],
   "source": [
    "sns.heatmap(data=piv, annot=True, fmt=\".2g\")\n",
    "plt.title(\"Percentage of people for each combination\");"
   ]
  },
  {
   "cell_type": "markdown",
   "metadata": {},
   "source": [
    "We can see that people who answered this question tend to generally be competitive towards themselves/like to challenge themselves. When looking at competitiveness towards peers the picture gets more diverse, there is no clear trend.\n",
    "When looking at the combined picture we can see that the questions are not stronlgy correlated. While I had somewhat expected that people who like challenging themselves are also more competitive towards others, we can clearly see that this is not the case."
   ]
  },
  {
   "cell_type": "code",
   "execution_count": null,
   "metadata": {},
   "outputs": [],
   "source": []
  }
 ],
 "metadata": {
  "kernelspec": {
   "display_name": "Python 3",
   "language": "python",
   "name": "python3"
  },
  "language_info": {
   "codemirror_mode": {
    "name": "ipython",
    "version": 3
   },
   "file_extension": ".py",
   "mimetype": "text/x-python",
   "name": "python",
   "nbconvert_exporter": "python",
   "pygments_lexer": "ipython3",
   "version": "3.7.1"
  }
 },
 "nbformat": 4,
 "nbformat_minor": 2
}
